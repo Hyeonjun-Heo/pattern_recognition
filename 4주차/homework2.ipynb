{
 "cells": [
  {
   "cell_type": "markdown",
   "metadata": {},
   "source": [
    "1. 생산 후 컴퓨터 부품은 A, B, C로 등급을 나눈다. 평균적으로 부품의 70%는 A급으로, 18%는 B급으로, 그리고 12% 가 C급으로 된다. 그리고 A급의 부품의 2% 정도가, B급의 10%정도, 그리고 C급의 18% 정도가 고장을 일으킨다. 만약에 한 부품이 고장났다면, 그것이 B급이었을 확률은?"
   ]
  },
  {
   "cell_type": "markdown",
   "metadata": {},
   "source": [
    "P(A) = 0.7, P(B) = 0.18, P(C) = 0.12 입니다. P(D|A) = 0.02, P(D|B) = 0.1, P(D|C) = 0.18 입니다.  \n",
    "한 부품이 고장난 확률을 P(D) 라고 할 때, P(D) = P(D|A) * P(A) + P(D|B) * P(B) + P(D|C) * P(C) 입니다.  \n",
    "결국 P(D) = 0.02 * 0.7 + 0.18 * 0.1 + 0.12 * 0.18 = 0.536\n",
    "우리가 찾고 싶은 답은 P(B|D) 이므로 베이즈 정리에 의하면  \n",
    "P(B|D) = (P(D|B) * P(B)) / P(D) 입니다."
   ]
  },
  {
   "cell_type": "code",
   "execution_count": 2,
   "metadata": {},
   "outputs": [
    {
     "name": "stdout",
     "output_type": "stream",
     "text": [
      "불량일 확률 :  0.053599999999999995\n",
      "한 부품이 고장났을 때 그것이 B급일 확률 :  0.3358208955223881\n"
     ]
    }
   ],
   "source": [
    "P_A = 0.7\n",
    "P_B = 0.18\n",
    "P_C = 0.12\n",
    "P_DA = 0.02\n",
    "P_DB = 0.1\n",
    "P_DC = 0.18\n",
    "\n",
    "# P_D를 구하는 식\n",
    "P_D = P_DA * P_A + P_DB * P_B + P_DC * P_C\n",
    "print(\"불량일 확률 : \", P_D)\n",
    "\n",
    "# P_DB를 구하는 식\n",
    "P_BD = (P_DB * P_B)/P_D\n",
    "print(\"한 부품이 고장났을 때 그것이 B급일 확률 : \", P_BD)"
   ]
  },
  {
   "cell_type": "markdown",
   "metadata": {},
   "source": [
    "2.  한 의사가 아픈 아이를 진료합니다. 의사는 그 지역의 아픈 아이들의 90%가 독감이며, 나머지 10%는 홍역이라는 사전 정보를 알고 있습니다. 독감에 걸리 아이를 F라 하고, 홍역에 걸린 아이를 M 이라 하자. 간단하게 하기 위해서  F ∪ M = S, 즉 그 지역에 다른 질병은 없다고 하자. 홍역의 잘 알려진 증상은 발진(R 로 표시)이다.  P(R|M) = 0.95 . 그러나, 때때로 독감에 걸린 아이들도 발진을 보인다. P(R|F)=0.08 . 검진한 아이에게서 발진이 보인다면, 그 아이가 홍역일 확률은? "
   ]
  },
  {
   "cell_type": "markdown",
   "metadata": {},
   "source": [
    "P(F) = 0.9, P(M) = 0.1 입니다. P(R|F) = 0.08, P(R|M) = 0.95 입니다.  \n",
    "발진이 보일 확률을 P(R)이라고 할 때, P(R) = P(R|M) * P(M) + P(R|F) * P(F)입니다.  \n",
    "우리가 구하고 싶은건 P(M|R)이므로, 베이즈 정리에 의해서  \n",
    "P(M|R) = P(R|M) * P(M) / P(R) 입니다."
   ]
  },
  {
   "cell_type": "code",
   "execution_count": 3,
   "metadata": {},
   "outputs": [
    {
     "name": "stdout",
     "output_type": "stream",
     "text": [
      "P(R)의 확률 :  0.167\n",
      "P(M|R)의 확률 :  0.5688622754491017\n"
     ]
    }
   ],
   "source": [
    "P_F = 0.9\n",
    "P_M = 0.1\n",
    "P_RF = 0.08\n",
    "P_RM = 0.95\n",
    "\n",
    "# P_R 을 구하는 공식\n",
    "P_R = P_RM * P_M + P_RF * P_F\n",
    "print(\"P(R)의 확률 : \", P_R)\n",
    "\n",
    "# P_MR 을 구하는 공식\n",
    "P_MR = (P_RM * P_M) / P_R\n",
    "print(\"P(M|R)의 확률 : \", P_MR)"
   ]
  },
  {
   "cell_type": "markdown",
   "metadata": {},
   "source": [
    "3. 사람들의 1% 는 일정한 유전적 결함을 가진다. 유전자 검사의 90%가 결함(진짜 양성)을 검출한다. (유전적 결함이 있다고 나온) 시험 결과의 9.6%는 잘못된 결과(가짜 양성)이다. 어떤 사람이 양성 결과는 얻었다면, 실제로 유전적 결함이 있을 확률은?"
   ]
  },
  {
   "cell_type": "markdown",
   "metadata": {},
   "source": [
    "유전적 결함을 가진 사람의 확률을 P(A), 결함이 아닐 확률을 P(~A)라고 하고, 유전적 결함일 때, 양성을 판정 받을 확률을 P(+|A), 유전적 결함이 아닐 때 양성을 판정 받을 확률을 P(+|~A) 라고 합니다.  \n",
    "P(+) = P(+|A) * P(A) + P(+|~A) * P(~A) 입니다.  \n",
    "우리가 구하고 싶은건 P(A|+) 이므로 베이즈 정리에 의하면 P(A|+) = (P(+|A) * P(A)) / P(+) 입니다."
   ]
  },
  {
   "cell_type": "code",
   "execution_count": 4,
   "metadata": {},
   "outputs": [
    {
     "name": "stdout",
     "output_type": "stream",
     "text": [
      "양성을 확진 받을 확률 :  0.10404\n",
      "양성 결과를 얻었을 때, 실제로 유전적 결함이 있을 확률 :  0.0865051903114187\n"
     ]
    }
   ],
   "source": [
    "P_A = 0.01\n",
    "P_N_A = 0.99\n",
    "P_PA = 0.9\n",
    "P_PN_A = 0.096\n",
    "\n",
    "# P_P를 구하는 공식\n",
    "P_P = P_PA * P_A + P_PN_A * P_N_A\n",
    "print(\"양성을 확진 받을 확률 : \", P_P)\n",
    "\n",
    "# P_AP를 구하는 공식\n",
    "P_AP = (P_PA * P_A) / P_P\n",
    "print(\"양성 결과를 얻었을 때, 실제로 유전적 결함이 있을 확률 : \", P_AP)"
   ]
  },
  {
   "cell_type": "markdown",
   "metadata": {},
   "source": [
    "4.  다음과 같은 통계에서, 어떤 여성이 유방암 검사에서 양성이 나왔다면, 실제 유방암일 확률은? 여성의 1 %가 유방암에 걸립니다.  유방암검사는 유방암이 있는 경우 80%를 발견한다. (따라서 유방암이 있는 여성의 20%를 놓친다.) 유방암검사는 유방암이 없는 경우에도 10%를 유방암이 있는 것으로 판독한다 (따라서 유방암이 없는 여성의 90%를 정상으로 밝혀낸다.) \n",
    "[ Hint :  Let x = 유방암 양성반응, w1 = 유방암 있음, w0 = 유방암 없음, (1) 유방암이 있으나, 검사에서 음성이 20% ==> P(x|w1) = 0.8 , (2) 유방엄이 없으나, 검사에서 음성이 90% ==> P(x|w0) = 0.1 ]"
   ]
  },
  {
   "cell_type": "markdown",
   "metadata": {},
   "source": [
    "유방암을 가진 사람의 확률은 P(w1),  유방암이 아닐 확률은 P(w0)라고 합니다. 양성일 확률을 P(x)라고 할 때, P(x|w1) = 0.8, P(x|w0) = 0.1  \n",
    "p(x) = p(x|w1) * P(w1) + p(x|w0) * p(w0) 입니다.  \n",
    "우리가 구하고 싶은건 P(w1|x) 이므로 베이즈 정리에 의해서  \n",
    "P(w1|x) = (P(x|w1) * P(w1)) / P(x) 입니다.  "
   ]
  },
  {
   "cell_type": "code",
   "execution_count": 5,
   "metadata": {},
   "outputs": [
    {
     "name": "stdout",
     "output_type": "stream",
     "text": [
      "양성을 확진 받을 확률 :  0.10700000000000001\n",
      "양성 결과를 얻었을 때, 실제로 유방암이 있을 확률 :  0.07476635514018691\n"
     ]
    }
   ],
   "source": [
    "P_w1 = 0.01\n",
    "P_w0 = 0.99\n",
    "P_xw1 = 0.8\n",
    "P_xw0 = 0.1\n",
    "\n",
    "# P_x를 구하는 공식\n",
    "P_x = P_xw1 * P_w1 + P_xw0 * P_w0\n",
    "print(\"양성을 확진 받을 확률 : \", P_x)\n",
    "\n",
    "# P_w1x를 구하는 공식\n",
    "P_w1x = (P_xw1 * P_w1) / P_x\n",
    "print(\"양성 결과를 얻었을 때, 실제로 유방암이 있을 확률 : \", P_w1x)"
   ]
  },
  {
   "cell_type": "markdown",
   "metadata": {},
   "source": [
    "5.  철수는 출근할 때 세 가지 운송수단(자동차, 버스, 기차) 중 하나를 사용할 수 있다. 만약 자동차로 결정하면 지각할 확률이 50% 이고, 버스를 타면 지각할 확률이 20%,  그리고 기차는 늦을 확률이 단지 1% 이지만 요금이 버스보다 비싸다. 하루는 철수가 늦었을 때, 그의 상사는 그가 자동차를 운전할 가능성을 추측하려 한다고  가정하자. 상사는 철수가 일반적으로 어느 운송수단을 사용하는 지 알지 못하므로 세 경우에 대하여 사전확률은 1/3 이다. 상사가 추정한 철수가 운전해서 출근할 확률은?"
   ]
  },
  {
   "cell_type": "markdown",
   "metadata": {},
   "source": [
    "철수의 상사가 무엇을 타고 오든 상관 없이 모든 확률은 1/3이므로, P(C), P(B), P(T) = 1/3 이고, 철수가 늦을 확률을 P(L)이라고 할 때, 각 운송수단 당 늦을 확률은 P(L|C), P(L|B), P(L|T) 입니다.  \n",
    "P(L) = P(L|C) * P(C) + P(L|B) * P(B) + P(L|T) * P(T) 이고,  \n",
    "우리가 구하고 싶은건 P(C|L)이므로,  \n",
    "P(C|L) = (P(L|C) * P(C)) / P(L) 입니다."
   ]
  },
  {
   "cell_type": "code",
   "execution_count": 11,
   "metadata": {},
   "outputs": [
    {
     "name": "stdout",
     "output_type": "stream",
     "text": [
      "철수가 늦을 확률 :  0.23666666666666666\n",
      "상사가 추정한 철수가 운전해서 출근할 확률 :  0.704225352112676\n"
     ]
    }
   ],
   "source": [
    "P_C = 1/3\n",
    "P_B = 1/3\n",
    "P_T = 1/3\n",
    "P_LC = 0.50\n",
    "P_LB = 0.20\n",
    "P_LT = 0.01\n",
    "\n",
    "# P_L을 구하는 공식\n",
    "P_L = P_LC * P_C + P_LB * P_B + P_LT * P_T\n",
    "print(\"철수가 늦을 확률 : \", P_L)\n",
    "\n",
    "# P_CL 을 구하는 공식\n",
    "P_CL = (P_LC * P_C) / P_L\n",
    "print(\"상사가 추정한 철수가 운전해서 출근할 확률 : \", P_CL)"
   ]
  }
 ],
 "metadata": {
  "kernelspec": {
   "display_name": "Python 3 (ipykernel)",
   "language": "python",
   "name": "python3"
  },
  "language_info": {
   "codemirror_mode": {
    "name": "ipython",
    "version": 3
   },
   "file_extension": ".py",
   "mimetype": "text/x-python",
   "name": "python",
   "nbconvert_exporter": "python",
   "pygments_lexer": "ipython3",
   "version": "3.7.13"
  }
 },
 "nbformat": 4,
 "nbformat_minor": 2
}
