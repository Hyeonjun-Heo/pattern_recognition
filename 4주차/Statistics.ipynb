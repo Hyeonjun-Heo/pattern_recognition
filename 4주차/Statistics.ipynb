{
 "cells": [
  {
   "cell_type": "code",
   "execution_count": 8,
   "metadata": {},
   "outputs": [
    {
     "name": "stdout",
     "output_type": "stream",
     "text": [
      "x_1 : [4 6 4 6] ==> mean : 5.0\n",
      "x_2 : [1 2 3 4 5 6 7] ==> mean : 4.0\n",
      "x_3 : [4 4 4 4 4 4 4] ==> mean : 4.0\n"
     ]
    }
   ],
   "source": [
    "import numpy as np\n",
    "\n",
    "x_1 = np.array([4, 6, 4, 6])\n",
    "print('x_1 :', x_1 ,\"==> mean :\", x_1.mean())\n",
    "\n",
    "x_2 = np.array([1,2,3,4,5,6,7])\n",
    "print('x_2 :', x_2 ,\"==> mean :\", x_2.mean())\n",
    "\n",
    "x_3 = np.array([4,4,4,4,4,4,4])\n",
    "print('x_3 :', x_3 ,\"==> mean :\", x_3.mean())"
   ]
  },
  {
   "cell_type": "code",
   "execution_count": 9,
   "metadata": {},
   "outputs": [
    {
     "name": "stdout",
     "output_type": "stream",
     "text": [
      "x_1's variance :  1.0\n",
      "x_1's variance :  1.0\n",
      "x_2's variance : 4.0\n",
      "x_2's variance : 4.0\n",
      "x_3's variance : 0.0\n",
      "x_3's variance : 0.0\n"
     ]
    }
   ],
   "source": [
    "print(\"x_1's variance : \", np.mean((x_1 - x_1.mean())**2))\n",
    "print(\"x_1's variance : \", x_1.var())\n",
    "\n",
    "print(\"x_2's variance :\", np.mean((x_2 - x_2.mean())**2))\n",
    "print(\"x_2's variance :\", x_2.var())\n",
    "\n",
    "print(\"x_3's variance :\", np.mean((x_3- x_3.mean())**2))\n",
    "print(\"x_3's variance :\", x_3.var())"
   ]
  },
  {
   "cell_type": "code",
   "execution_count": 7,
   "metadata": {},
   "outputs": [
    {
     "name": "stdout",
     "output_type": "stream",
     "text": [
      "x_1's standard deviation : 0.7559289460184544\n",
      "x_1's standard deviation : 0.7559289460184544\n",
      "x_2's standard deviation : 2.0\n",
      "x_2's standard deviation : 2.0\n",
      "x_3's standard deviation : 0.0\n",
      "x_3's standard deviation : 0.0\n"
     ]
    }
   ],
   "source": [
    "print(\"x_1's standard deviation :\", np.sqrt(np.mean((x_1 - x_1.mean())**2)))\n",
    "print(\"x_1's standard deviation :\", x_1.std())\n",
    "\n",
    "print(\"x_2's standard deviation :\", np.sqrt(np.mean((x_2 - x_2.mean())**2)))\n",
    "print(\"x_2's standard deviation :\", x_2.std())\n",
    "\n",
    "print(\"x_3's standard deviation :\", np.sqrt(np.mean((x_3 - x_3.mean())**2)))\n",
    "print(\"x_3's standard deviation :\", x_3.std())"
   ]
  },
  {
   "cell_type": "code",
   "execution_count": null,
   "metadata": {},
   "outputs": [],
   "source": []
  }
 ],
 "metadata": {
  "kernelspec": {
   "display_name": "tf-gpu",
   "language": "python",
   "name": "python3"
  },
  "language_info": {
   "codemirror_mode": {
    "name": "ipython",
    "version": 3
   },
   "file_extension": ".py",
   "mimetype": "text/x-python",
   "name": "python",
   "nbconvert_exporter": "python",
   "pygments_lexer": "ipython3",
   "version": "3.7.13"
  },
  "orig_nbformat": 4
 },
 "nbformat": 4,
 "nbformat_minor": 2
}
