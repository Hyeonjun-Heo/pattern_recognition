{
 "cells": [
  {
   "cell_type": "code",
   "execution_count": 2,
   "metadata": {},
   "outputs": [
    {
     "name": "stdout",
     "output_type": "stream",
     "text": [
      "[1 2 3] <class 'numpy.ndarray'>\n",
      "(3,)\n",
      "1 2 3\n",
      "[100   2   3]\n",
      "[[1 2 3]\n",
      " [4 5 6]] (2, 3)\n",
      "1 5 3\n"
     ]
    }
   ],
   "source": [
    "import numpy as np\n",
    "\n",
    "a = np.array([1,2,3])\n",
    "print(a, type(a))\n",
    "print(a.shape)\n",
    "\n",
    "print(a[0], a[1], a[2])\n",
    "\n",
    "a[0] = 100\n",
    "print(a)\n",
    "\n",
    "b = np.array([[1,2,3], [4,5,6]])\n",
    "print(b, b.shape)\n",
    "print(b[0,0], b[1,1], b[0,2])"
   ]
  },
  {
   "cell_type": "code",
   "execution_count": 3,
   "metadata": {},
   "outputs": [
    {
     "name": "stdout",
     "output_type": "stream",
     "text": [
      "[[0. 0. 0.]\n",
      " [0. 0. 0.]]\n",
      "[[1. 1. 1.]\n",
      " [1. 1. 1.]\n",
      " [1. 1. 1.]\n",
      " [1. 1. 1.]]\n",
      "[[7 7]\n",
      " [7 7]]\n",
      "[[1. 0.]\n",
      " [0. 1.]]\n",
      "[[0.5890195  0.32619389 0.35140241 0.88436947]\n",
      " [0.41662582 0.64995228 0.64860453 0.08271183]\n",
      " [0.34576622 0.31111237 0.79630455 0.47797234]]\n"
     ]
    }
   ],
   "source": [
    "a = np.zeros((2,3))\n",
    "print(a)\n",
    "b = np.ones((4,3))\n",
    "print(b)\n",
    "c = np.full((2,2), 7)\n",
    "print(c)\n",
    "d = np.eye(2)\n",
    "print(d)\n",
    "e = np.random.random((3,4))\n",
    "print(e)"
   ]
  },
  {
   "cell_type": "code",
   "execution_count": 4,
   "metadata": {},
   "outputs": [
    {
     "name": "stdout",
     "output_type": "stream",
     "text": [
      "[0 1 2 3 4]\n",
      "[1.  1.4 1.8 2.2 2.6]\n",
      "[1.   1.75 2.5  3.25 4.  ]\n"
     ]
    }
   ],
   "source": [
    "a = np.arange(5)\n",
    "print(a)\n",
    "b = np.arange(1,3,0.4)\n",
    "print(b)\n",
    "c = np.linspace(1., 4., 5)\n",
    "print(c)"
   ]
  },
  {
   "cell_type": "code",
   "execution_count": 5,
   "metadata": {},
   "outputs": [
    {
     "name": "stdout",
     "output_type": "stream",
     "text": [
      "[[1 2 3 4]\n",
      " [5 6 7 8]]\n",
      "[[2 3]\n",
      " [6 7]]\n",
      "2\n",
      "[[77  3]\n",
      " [ 6  7]]\n",
      "[[ 1 77  3  4]\n",
      " [ 5  6  7  8]]\n"
     ]
    }
   ],
   "source": [
    "a = np.array([[1,2,3,4], [5,6,7,8]])\n",
    "print(a)\n",
    "b = a[:2, 1:3]\n",
    "print(b)\n",
    "print(a[0,1])\n",
    "b[0,0] = 77\n",
    "print(b)\n",
    "print(a)"
   ]
  },
  {
   "cell_type": "code",
   "execution_count": 6,
   "metadata": {},
   "outputs": [
    {
     "name": "stdout",
     "output_type": "stream",
     "text": [
      "[[1 2 3 4]\n",
      " [5 6 7 8]]\n",
      "[5 6 7 8] (4,)\n",
      "[[5 6 7 8]] (1, 4)\n",
      "[2 6] (2,)\n",
      "[[2]\n",
      " [6]] (2, 1)\n"
     ]
    }
   ],
   "source": [
    "a = np.array([[1,2,3,4], [5,6,7,8]])\n",
    "print(a)\n",
    "row_1 = a[1, :]\n",
    "row_2 = a[1:2, :]\n",
    "print(row_1, row_1.shape)\n",
    "print(row_2, row_2.shape)\n",
    "\n",
    "col_1 = a[:, 1]\n",
    "\n",
    "\n",
    "\n",
    "col_2 = a[:, 1:2]\n",
    "print(col_1, col_1.shape)\n",
    "print(col_2, col_2.shape)"
   ]
  },
  {
   "cell_type": "code",
   "execution_count": 7,
   "metadata": {},
   "outputs": [
    {
     "name": "stdout",
     "output_type": "stream",
     "text": [
      "[[ 1  2  3  4]\n",
      " [ 5  6  7  8]\n",
      " [ 9 10 11 12]]\n",
      "[5 6 7 8] (4,)\n",
      "[[5 6 7 8]] (1, 4)\n",
      "--*----*----*----*----*----*----*----*----*----*--\n",
      "[ 2  6 10] (3,)\n",
      "[[ 2]\n",
      " [ 6]\n",
      " [10]] (3, 1)\n"
     ]
    }
   ],
   "source": [
    "a = np.array([[1,2,3,4], [5,6,7,8], [9,10,11,12]])\n",
    "print(a)\n",
    "\n",
    "row_r1 = a[1, :] # a의 두 번째 행 (정수 인덱싱)\n",
    "row_r2 = a[1:2, :] # a의 두 번째 행 (슬라이싱)\n",
    "print(row_1, row_1.shape) # 정수 인덱싱을 하면 차원이 하나 줄어듦(1차원 배열)\n",
    "print(row_2, row_2.shape) # 행렬 형태 (2차원 행렬)\n",
    "print(\"--*--\" * 10)\n",
    "col_r1 = a[:, 1] # a의 두번째 열 (정수 인덱싱)\n",
    "col_r2 = a[:, 1:2] # a의 두번째 열 (슬라이싱)\n",
    "print(col_r1, col_r1.shape) # a의 두 번째 열 (정수 인덱싱)\n",
    "print(col_r2, col_r2.shape) # a의 두 번째 열 (슬라이싱)"
   ]
  },
  {
   "cell_type": "code",
   "execution_count": 8,
   "metadata": {},
   "outputs": [
    {
     "name": "stdout",
     "output_type": "stream",
     "text": [
      "[[1 2]\n",
      " [3 4]\n",
      " [5 6]]\n",
      "[1 4 5]\n",
      "[1 4 5]\n",
      "[2 2]\n",
      "[2 2]\n"
     ]
    }
   ],
   "source": [
    "a = np.array([[1,2], [3,4], [5,6]])\n",
    "print(a)\n",
    "print(a[[0,1,2], [0,1,0]]) # 특정한 element를 뽑기\n",
    "print(np.array([a[0,0], a[1,1], a[2,0]])) # 특정한 element를 뽑아서 배열로 만들어줌\n",
    "print(a[[0,0], [1,1]])\n",
    "print(np.array([a[0,1], a[0,1]]))"
   ]
  },
  {
   "cell_type": "code",
   "execution_count": 9,
   "metadata": {},
   "outputs": [
    {
     "name": "stdout",
     "output_type": "stream",
     "text": [
      "[[ 1  2  3]\n",
      " [ 4  5  6]\n",
      " [ 7  8  9]\n",
      " [10 11 12]]\n",
      "[0 2 0 1]\n",
      "[ 1  6  7 11]\n"
     ]
    }
   ],
   "source": [
    "a = np.array([[1,2,3], [4,5,6], [7,8,9], [10,11,12]]) # (4x3)배열\n",
    "print(a)\n",
    "b = np.array([0, 2, 0, 1]) # a의 특정한 element 4개를 뽑아낼 때 사용할 index 번호\n",
    "print(b)\n",
    "print(a[np.arange(4), b]) # a[0,0], a[1,2], a[2,0], a[3,1])를 뽑아내기"
   ]
  },
  {
   "cell_type": "code",
   "execution_count": 10,
   "metadata": {},
   "outputs": [
    {
     "name": "stdout",
     "output_type": "stream",
     "text": [
      "[[False False]\n",
      " [ True  True]\n",
      " [ True  True]\n",
      " [ True  True]]\n",
      "[3 4 5 6 7 8]\n",
      "[3 4 5 6 7 8]\n"
     ]
    }
   ],
   "source": [
    "# 부울 배열 인덱싱 : 배열 안에 부울 값만 넣고, 그 중에서 True 값만 뽑아내기\n",
    "a = np.array([[1,2], [3,4], [5,6], [7,8]])\n",
    "# 부울값으로 인덱스를 갖고 있는 배열\n",
    "bool_idx = (a > 2) # a라는 배열에 2보다 큰 값들을 찾아서, 그 값들의 부울 값 (True of False)\n",
    "print(bool_idx)\n",
    "print(a[bool_idx]) # True인 값을 가지는 인덱스 위치의 값을 뽑아냄\n",
    "print(a[a>2])"
   ]
  },
  {
   "cell_type": "code",
   "execution_count": 11,
   "metadata": {},
   "outputs": [
    {
     "name": "stdout",
     "output_type": "stream",
     "text": [
      "int32\n",
      "float64\n",
      "float64\n",
      "[1. 2.]\n"
     ]
    }
   ],
   "source": [
    "import numpy as np\n",
    "\n",
    "x = np.array([1,2])\n",
    "print(x.dtype) # x가 갖고있는 값들의 datatype = 64bit 크기 정수\n",
    "\n",
    "x = np.array([1.0, 2.0])\n",
    "print(x.dtype) # x가 갖고 있는 datatype = 64bit 크기 실수\n",
    "\n",
    "x = np.array([1,2], dtype= np.float64) # 직접 datatype 주기 : datatype를 np에서 제공되는 float64 type로 만듦\n",
    "print(x.dtype)\n",
    "print(x)"
   ]
  },
  {
   "cell_type": "code",
   "execution_count": 13,
   "metadata": {},
   "outputs": [
    {
     "name": "stdout",
     "output_type": "stream",
     "text": [
      "[[1. 2.]\n",
      " [3. 4.]]\n",
      "[[5. 6.]\n",
      " [7. 8.]]\n",
      "[[ 6.  8.]\n",
      " [10. 12.]]\n",
      "[[ 6.  8.]\n",
      " [10. 12.]]\n",
      "[[-4. -4.]\n",
      " [-4. -4.]]\n",
      "[[-4. -4.]\n",
      " [-4. -4.]]\n"
     ]
    }
   ],
   "source": [
    "x = np.array([[1,2], [3,4]], dtype= np.float64)\n",
    "y = np.array([[5,6], [7,8]], dtype= np.float64)\n",
    "\n",
    "print(x)\n",
    "print(y)\n",
    "\n",
    "print(x + y) # 해당 요소들끼리의 덧셈\n",
    "print(np.add(x,y)) # x와 y를 더해준 값\n",
    "\n",
    "print(x - y) # 해당 요소들끼리의 뺄셈\n",
    "print(np.subtract(x,y)) # x와 y를 뺀 값"
   ]
  },
  {
   "cell_type": "code",
   "execution_count": 14,
   "metadata": {},
   "outputs": [
    {
     "name": "stdout",
     "output_type": "stream",
     "text": [
      "[[ 5. 12.]\n",
      " [21. 32.]]\n",
      "[[ 5. 12.]\n",
      " [21. 32.]]\n",
      "[[0.2        0.33333333]\n",
      " [0.42857143 0.5       ]]\n",
      "[[0.2        0.33333333]\n",
      " [0.42857143 0.5       ]]\n",
      "[[ 1.  8.]\n",
      " [27. 64.]]\n",
      "[[ 1.  8.]\n",
      " [27. 64.]]\n",
      "[[1.         1.41421356]\n",
      " [1.73205081 2.        ]]\n"
     ]
    }
   ],
   "source": [
    "print(x * y) # 해당 요소들끼리의 곱셈\n",
    "print(np.multiply(x, y)) # x와 y를 곱한 값\n",
    "\n",
    "print(x / y) # 해당 요소들끼리 나눗셈\n",
    "print(np.divide(x, y)) # x와 y를 나눈 값\n",
    "\n",
    "print(x**3) # 해당 요소들의 지수승\n",
    "print(np.power(x, 3)) #\n",
    "\n",
    "print(np.sqrt(x)) # 해당 요소들의 제곱근"
   ]
  },
  {
   "cell_type": "code",
   "execution_count": 15,
   "metadata": {},
   "outputs": [
    {
     "name": "stdout",
     "output_type": "stream",
     "text": [
      "[[1 2]\n",
      " [3 4]]\n",
      "[[5 6]\n",
      " [7 8]]\n",
      "[ 9 10] [11 12]\n",
      "219\n",
      "219\n",
      "[29 67]\n",
      "[29 67]\n",
      "[[19 22]\n",
      " [43 50]]\n",
      "[[19 22]\n",
      " [43 50]]\n"
     ]
    }
   ],
   "source": [
    "x = np.array([[1,2], [3,4]]) # 2 by 2 행렬\n",
    "y = np.array([[5,6], [7,8]]) # 2 by 2 행렬\n",
    "print(x)\n",
    "print(y)\n",
    "\n",
    "v = np.array([9, 10]) # (2, )벡터 (1-dimensional array)\n",
    "w = np.array([11, 12]) # (2, )벡터 (1-dimensional array)\n",
    "print(v, w)\n",
    "\n",
    "# 벡터와 벡터의 곱\n",
    "print(v.dot(w)) # v와 w의 dot product = (9 * 11 + 10 * 12)\n",
    "print(np.dot(v, w))\n",
    "\n",
    "# 벡터와 행렬의 곱\n",
    "print(x.dot(v)) # x와 v의 dot product = [(1*9 + 2*10), (3*9 + 4*10)]\n",
    "print(np.dot(x, v))\n",
    "\n",
    "# 행렬 행렬의 곱\n",
    "print(x.dot(y)) # x와 y의 dot product = [[(1*5 + 2*7), (1*6 + 2*8)], [(3*5 + 4*7), (3*6 + 4*8)]]\n",
    "print(np.dot(x, y))"
   ]
  },
  {
   "cell_type": "code",
   "execution_count": 16,
   "metadata": {},
   "outputs": [
    {
     "name": "stdout",
     "output_type": "stream",
     "text": [
      "10\n",
      "[4 6]\n",
      "[3 7]\n"
     ]
    }
   ],
   "source": [
    "X = np.array([[1,2], [3,4]])\n",
    "print(np.sum(X)) # 모든 요소를 더한 값 (1 + 2 + 3 + 4)\n",
    "print(np.sum(X, axis=0)) # 행 (0번째) 방향으로 더하기\n",
    "print(np.sum(X, axis= 1)) # 열 (1번째) 방향으로 더하기"
   ]
  },
  {
   "cell_type": "code",
   "execution_count": 17,
   "metadata": {},
   "outputs": [
    {
     "name": "stdout",
     "output_type": "stream",
     "text": [
      "[[1 1]\n",
      " [2 2]]\n",
      "[[1 2]\n",
      " [1 2]]\n",
      "[1 2 3]\n",
      "[1 2 3]\n"
     ]
    }
   ],
   "source": [
    "X = np.array([[1,1], [2,2]]) # 행렬\n",
    "print(X)\n",
    "print(X.T) # 행과 열의 값이 뒤바뀜\n",
    "\n",
    "v = np.array([1,2,3])\n",
    "print(v) # 1차원 벡터\n",
    "print(v.T) # 벡터는 transpose 해도 똑같은 하나의 행으로 나타남"
   ]
  },
  {
   "cell_type": "code",
   "execution_count": null,
   "metadata": {},
   "outputs": [],
   "source": []
  }
 ],
 "metadata": {
  "kernelspec": {
   "display_name": "pytorch2.0",
   "language": "python",
   "name": "python3"
  },
  "language_info": {
   "codemirror_mode": {
    "name": "ipython",
    "version": 3
   },
   "file_extension": ".py",
   "mimetype": "text/x-python",
   "name": "python",
   "nbconvert_exporter": "python",
   "pygments_lexer": "ipython3",
   "version": "3.9.16"
  },
  "orig_nbformat": 4
 },
 "nbformat": 4,
 "nbformat_minor": 2
}
