{
 "cells": [
  {
   "cell_type": "code",
   "execution_count": 2,
   "metadata": {},
   "outputs": [
    {
     "name": "stdout",
     "output_type": "stream",
     "text": [
      "[1 2 3] <class 'numpy.ndarray'>\n",
      "(3,)\n",
      "1 2 3\n",
      "[100   2   3]\n",
      "[[1 2 3]\n",
      " [4 5 6]] (2, 3)\n",
      "1 5 3\n"
     ]
    }
   ],
   "source": [
    "import numpy as np\n",
    "\n",
    "a = np.array([1,2,3])\n",
    "print(a, type(a))\n",
    "print(a.shape)\n",
    "\n",
    "print(a[0], a[1], a[2])\n",
    "\n",
    "a[0] = 100\n",
    "print(a)\n",
    "\n",
    "b = np.array([[1,2,3], [4,5,6]])\n",
    "print(b, b.shape)\n",
    "print(b[0,0], b[1,1], b[0,2])"
   ]
  },
  {
   "cell_type": "code",
   "execution_count": 3,
   "metadata": {},
   "outputs": [
    {
     "name": "stdout",
     "output_type": "stream",
     "text": [
      "[[0. 0. 0.]\n",
      " [0. 0. 0.]]\n",
      "[[1. 1. 1.]\n",
      " [1. 1. 1.]\n",
      " [1. 1. 1.]\n",
      " [1. 1. 1.]]\n",
      "[[7 7]\n",
      " [7 7]]\n",
      "[[1. 0.]\n",
      " [0. 1.]]\n",
      "[[0.17209698 0.53720648 0.36459605 0.04583437]\n",
      " [0.65913359 0.10701994 0.11217677 0.81874653]\n",
      " [0.96156058 0.17000775 0.25072441 0.51263639]]\n"
     ]
    }
   ],
   "source": [
    "a = np.zeros((2,3))\n",
    "print(a)\n",
    "b = np.ones((4,3))\n",
    "print(b)\n",
    "c = np.full((2,2), 7)\n",
    "print(c)\n",
    "d = np.eye(2)\n",
    "print(d)\n",
    "e = np.random.random((3,4))\n",
    "print(e)"
   ]
  },
  {
   "cell_type": "code",
   "execution_count": 4,
   "metadata": {},
   "outputs": [
    {
     "name": "stdout",
     "output_type": "stream",
     "text": [
      "[0 1 2 3 4]\n",
      "[1.  1.4 1.8 2.2 2.6]\n",
      "[1.   1.75 2.5  3.25 4.  ]\n"
     ]
    }
   ],
   "source": [
    "a = np.arange(5)\n",
    "print(a)\n",
    "b = np.arange(1,3,0.4)\n",
    "print(b)\n",
    "c = np.linspace(1., 4., 5)\n",
    "print(c)"
   ]
  },
  {
   "cell_type": "code",
   "execution_count": 5,
   "metadata": {},
   "outputs": [
    {
     "name": "stdout",
     "output_type": "stream",
     "text": [
      "[[1 2 3 4]\n",
      " [5 6 7 8]]\n",
      "[[2 3]\n",
      " [6 7]]\n",
      "2\n",
      "[[77  3]\n",
      " [ 6  7]]\n",
      "[[ 1 77  3  4]\n",
      " [ 5  6  7  8]]\n"
     ]
    }
   ],
   "source": [
    "a = np.array([[1,2,3,4], [5,6,7,8]])\n",
    "print(a)\n",
    "b = a[:2, 1:3]\n",
    "print(b)\n",
    "print(a[0,1])\n",
    "b[0,0] = 77\n",
    "print(b)\n",
    "print(a)"
   ]
  },
  {
   "cell_type": "code",
   "execution_count": 6,
   "metadata": {},
   "outputs": [
    {
     "name": "stdout",
     "output_type": "stream",
     "text": [
      "[[1 2 3 4]\n",
      " [5 6 7 8]]\n",
      "[5 6 7 8] (4,)\n",
      "[[5 6 7 8]] (1, 4)\n",
      "[2 6] (2,)\n",
      "[[2]\n",
      " [6]] (2, 1)\n"
     ]
    }
   ],
   "source": [
    "a = np.array([[1,2,3,4], [5,6,7,8]])\n",
    "print(a)\n",
    "row_1 = a[1, :]\n",
    "row_2 = a[1:2, :]\n",
    "print(row_1, row_1.shape)\n",
    "print(row_2, row_2.shape)\n",
    "\n",
    "col_1 = a[:, 1]\n",
    "\n",
    "\n",
    "\n",
    "col_2 = a[:, 1:2]\n",
    "print(col_1, col_1.shape)\n",
    "print(col_2, col_2.shape)"
   ]
  },
  {
   "cell_type": "code",
   "execution_count": 9,
   "metadata": {},
   "outputs": [
    {
     "name": "stdout",
     "output_type": "stream",
     "text": [
      "[[ 1  2  3  4]\n",
      " [ 5  6  7  8]\n",
      " [ 9 10 11 12]]\n",
      "[5 6 7 8] (4,)\n",
      "[[5 6 7 8]] (1, 4)\n",
      "--*----*----*----*----*----*----*----*----*----*--\n",
      "[ 2  6 10] (3,)\n",
      "[[ 2]\n",
      " [ 6]\n",
      " [10]] (3, 1)\n"
     ]
    }
   ],
   "source": [
    "a = np.array([[1,2,3,4], [5,6,7,8], [9,10,11,12]])\n",
    "print(a)\n",
    "\n",
    "row_r1 = a[1, :] # a의 두 번째 행 (정수 인덱싱)\n",
    "row_r2 = a[1:2, :] # a의 두 번째 행 (슬라이싱)\n",
    "print(row_1, row_1.shape) # 정수 인덱싱을 하면 차원이 하나 줄어듦(1차원 배열)\n",
    "print(row_2, row_2.shape) # 행렬 형태 (2차원 행렬)\n",
    "print(\"--*--\" * 10)\n",
    "col_r1 = a[:, 1] # a의 두번째 열 (정수 인덱싱)\n",
    "col_r2 = a[:, 1:2] # a의 두번째 열 (슬라이싱)\n",
    "print(col_r1, col_r1.shape) # a의 두 번째 열 (정수 인덱싱)\n",
    "print(col_r2, col_r2.shape) # a의 두 번째 열 (슬라이싱)"
   ]
  },
  {
   "cell_type": "code",
   "execution_count": 20,
   "metadata": {},
   "outputs": [
    {
     "name": "stdout",
     "output_type": "stream",
     "text": [
      "[[1 2]\n",
      " [3 4]\n",
      " [5 6]]\n",
      "[1 4 5]\n",
      "[1 4 5]\n",
      "[2 2]\n",
      "[2 2]\n"
     ]
    }
   ],
   "source": [
    "a = np.array([[1,2], [3,4], [5,6]])\n",
    "print(a)\n",
    "print(a[[0,1,2], [0,1,0]]) # 특정한 element를 뽑기\n",
    "print(np.array([a[0,0], a[1,1], a[2,0]])) # 특정한 element를 뽑아서 배열로 만들어줌\n",
    "print(a[[0,0], [1,1]])\n",
    "print(np.array([a[0,1], a[0,1]]))"
   ]
  },
  {
   "cell_type": "code",
   "execution_count": 22,
   "metadata": {},
   "outputs": [
    {
     "name": "stdout",
     "output_type": "stream",
     "text": [
      "[[ 1  2  3]\n",
      " [ 4  5  6]\n",
      " [ 7  8  9]\n",
      " [10 11 12]]\n",
      "[0 2 0 1]\n",
      "[ 1  6  7 11]\n"
     ]
    }
   ],
   "source": [
    "a = np.array([[1,2,3], [4,5,6], [7,8,9], [10,11,12]]) # (4x3)배열\n",
    "print(a)\n",
    "b = np.array([0, 2, 0, 1]) # a의 특정한 element 4개를 뽑아낼 때 사용할 index 번호\n",
    "print(b)\n",
    "print(a[np.arange(4), b]) # a[0,0], a[1,2], a[2,0], a[3,1])를 뽑아내기"
   ]
  }
 ],
 "metadata": {
  "kernelspec": {
   "display_name": "pytorch2.0",
   "language": "python",
   "name": "python3"
  },
  "language_info": {
   "codemirror_mode": {
    "name": "ipython",
    "version": 3
   },
   "file_extension": ".py",
   "mimetype": "text/x-python",
   "name": "python",
   "nbconvert_exporter": "python",
   "pygments_lexer": "ipython3",
   "version": "3.7.13"
  },
  "orig_nbformat": 4
 },
 "nbformat": 4,
 "nbformat_minor": 2
}
