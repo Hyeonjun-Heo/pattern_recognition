{
 "cells": [
  {
   "cell_type": "code",
   "execution_count": 6,
   "metadata": {},
   "outputs": [
    {
     "name": "stdout",
     "output_type": "stream",
     "text": [
      "[1 2 3] <class 'numpy.ndarray'>\n",
      "(3,)\n",
      "1 2 3\n",
      "[100   2   3]\n",
      "[[1 2 3]\n",
      " [4 5 6]] (2, 3)\n",
      "1 5 3\n"
     ]
    }
   ],
   "source": [
    "import numpy as np\n",
    "\n",
    "a = np.array([1,2,3])\n",
    "print(a, type(a))\n",
    "print(a.shape)\n",
    "\n",
    "print(a[0], a[1], a[2])\n",
    "\n",
    "a[0] = 100\n",
    "print(a)\n",
    "\n",
    "b = np.array([[1,2,3], [4,5,6]])\n",
    "print(b, b.shape)\n",
    "print(b[0,0], b[1,1], b[0,2])"
   ]
  },
  {
   "cell_type": "code",
   "execution_count": 14,
   "metadata": {},
   "outputs": [
    {
     "name": "stdout",
     "output_type": "stream",
     "text": [
      "[[0. 0. 0.]\n",
      " [0. 0. 0.]]\n",
      "[[1. 1. 1.]\n",
      " [1. 1. 1.]\n",
      " [1. 1. 1.]\n",
      " [1. 1. 1.]]\n",
      "[[7 7]\n",
      " [7 7]]\n",
      "[[1. 0.]\n",
      " [0. 1.]]\n",
      "[[0.51567846 0.67404245 0.83135759 0.37307072]\n",
      " [0.1046859  0.28104117 0.06716229 0.48558571]\n",
      " [0.99229376 0.38035754 0.37635552 0.93331156]]\n"
     ]
    }
   ],
   "source": [
    "a = np.zeros((2,3))\n",
    "print(a)\n",
    "b = np.ones((4,3))\n",
    "print(b)\n",
    "c = np.full((2,2), 7)\n",
    "print(c)\n",
    "d = np.eye(2)\n",
    "print(d)\n",
    "e = np.random.random((3,4))\n",
    "print(e)"
   ]
  },
  {
   "cell_type": "code",
   "execution_count": 20,
   "metadata": {},
   "outputs": [
    {
     "name": "stdout",
     "output_type": "stream",
     "text": [
      "[0 1 2 3 4]\n",
      "[1.  1.4 1.8 2.2 2.6]\n",
      "[1.   1.75 2.5  3.25 4.  ]\n"
     ]
    }
   ],
   "source": [
    "a = np.arange(5)\n",
    "print(a)\n",
    "b = np.arange(1,3,0.4)\n",
    "print(b)\n",
    "c = np.linspace(1., 4., 5)\n",
    "print(c)"
   ]
  },
  {
   "cell_type": "code",
   "execution_count": 24,
   "metadata": {},
   "outputs": [
    {
     "name": "stdout",
     "output_type": "stream",
     "text": [
      "[[1 2 3 4]\n",
      " [5 6 7 8]]\n",
      "[[2 3]\n",
      " [6 7]]\n",
      "2\n",
      "[[77  3]\n",
      " [ 6  7]]\n",
      "[[ 1 77  3  4]\n",
      " [ 5  6  7  8]]\n"
     ]
    }
   ],
   "source": [
    "a = np.array([[1,2,3,4], [5,6,7,8]])\n",
    "print(a)\n",
    "b = a[:2, 1:3]\n",
    "print(b)\n",
    "print(a[0,1])\n",
    "b[0,0] = 77\n",
    "print(b)\n",
    "print(a)"
   ]
  },
  {
   "cell_type": "code",
   "execution_count": 28,
   "metadata": {},
   "outputs": [
    {
     "name": "stdout",
     "output_type": "stream",
     "text": [
      "[[1 2 3 4]\n",
      " [5 6 7 8]]\n",
      "[5 6 7 8] (4,)\n",
      "[[5 6 7 8]] (1, 4)\n",
      "[2 6] (2,)\n",
      "[[2]\n",
      " [6]] (2, 1)\n"
     ]
    }
   ],
   "source": [
    "a = np.array([[1,2,3,4], [5,6,7,8]])\n",
    "print(a)\n",
    "row_1 = a[1, :]\n",
    "row_2 = a[1:2, :]\n",
    "print(row_1, row_1.shape)\n",
    "print(row_2, row_2.shape)\n",
    "\n",
    "col_1 = a[:, 1]\n",
    "\n",
    "\n",
    "\n",
    "col_2 = a[:, 1:2]\n",
    "print(col_1, col_1.shape)\n",
    "print(col_2, col_2.shape)"
   ]
  },
  {
   "cell_type": "code",
   "execution_count": null,
   "metadata": {},
   "outputs": [],
   "source": []
  }
 ],
 "metadata": {
  "kernelspec": {
   "display_name": "pytorch2.0",
   "language": "python",
   "name": "python3"
  },
  "language_info": {
   "codemirror_mode": {
    "name": "ipython",
    "version": 3
   },
   "file_extension": ".py",
   "mimetype": "text/x-python",
   "name": "python",
   "nbconvert_exporter": "python",
   "pygments_lexer": "ipython3",
   "version": "3.10.11"
  },
  "orig_nbformat": 4
 },
 "nbformat": 4,
 "nbformat_minor": 2
}
