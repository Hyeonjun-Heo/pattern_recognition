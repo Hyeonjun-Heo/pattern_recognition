{
 "cells": [
  {
   "cell_type": "markdown",
   "metadata": {},
   "source": [
    "# 1. 벡터 a = [1,9,3,7,5]의 크기를 구하시오"
   ]
  },
  {
   "cell_type": "code",
   "execution_count": 1,
   "metadata": {},
   "outputs": [
    {
     "name": "stdout",
     "output_type": "stream",
     "text": [
      "12.84523257866513\n"
     ]
    }
   ],
   "source": [
    "import numpy as np\n",
    "a = np.array([1,9,3,7,5])\n",
    "print(np.linalg.norm(a))"
   ]
  },
  {
   "cell_type": "markdown",
   "metadata": {},
   "source": [
    "# 2. 벡터 b = [1,3,5]와 c = [2,4,6]의 내적을 구하시오."
   ]
  },
  {
   "cell_type": "code",
   "execution_count": 2,
   "metadata": {},
   "outputs": [
    {
     "data": {
      "text/plain": [
       "44"
      ]
     },
     "execution_count": 2,
     "metadata": {},
     "output_type": "execute_result"
    }
   ],
   "source": [
    "b = [1,3,5]\n",
    "c = [2,4,6]\n",
    "np.dot(b,c)"
   ]
  },
  {
   "cell_type": "markdown",
   "metadata": {},
   "source": [
    "# 3. 행렬 a = [1,2,3;4,5,6;7,8,9]의 트레이스, 행렬식, 역행렬, 고유치 및 그에 해당하는 고유벡터들을 구하시오. 그리고 b = a^T에 대한 값들도 구해보시오."
   ]
  },
  {
   "cell_type": "code",
   "execution_count": 16,
   "metadata": {},
   "outputs": [
    {
     "name": "stdout",
     "output_type": "stream",
     "text": [
      "Trace of a : 15\n",
      "Determinant of a : 0.0\n",
      "eigenvalue of a : [ 1.61168440e+01 -1.11684397e+00 -1.30367773e-15]\n",
      "eigenvacter of a : [[-0.23197069 -0.78583024  0.40824829]\n",
      " [-0.52532209 -0.08675134 -0.81649658]\n",
      " [-0.8186735   0.61232756  0.40824829]]\n",
      "====================\n",
      "b : [[1 4 7]\n",
      " [2 5 8]\n",
      " [3 6 9]]\n",
      "Trace of b : 15\n",
      "Determinant of b : 0.0\n",
      "eigenvalue of b : [ 1.61168440e+01 -1.11684397e+00 -5.70069119e-16]\n",
      "eigenvacter of b : [[-0.46454727 -0.88290596  0.40824829]\n",
      " [-0.57079553 -0.23952042 -0.81649658]\n",
      " [-0.67704379  0.40386512  0.40824829]]\n"
     ]
    }
   ],
   "source": [
    "a = np.array([[1,2,3], [4,5,6], [7,8,9]])\n",
    "a_tr = np.trace(a) # a의 트레이스\n",
    "a_det = np.linalg.det(a) #a의 행렬식\n",
    "# a_inv = np.linalg.inv(a)  a의 역행렬, 하지만 존재하지 않는다.\n",
    "W, V = np.linalg.eig(a) # W : 고유치 , V : 고유 벡터\n",
    "\n",
    "b = np.transpose(a) # b = a^T\n",
    "b_tr = np.trace(b) # b의 트레이스\n",
    "b_det = np.linalg.det(b) # b의 행렬식\n",
    "# b_inv = np.linalg.inv(b)  b의 역행렬, 하지만 존재하지 않는다.\n",
    "W_b, V_b = np.linalg.eig(b) # W_b : 고유치, V_b : 고유 벡터\n",
    "\n",
    "print(\"Trace of a :\", a_tr)\n",
    "print(\"Determinant of a :\", a_det)\n",
    "# print(\"Inverse of a\", a_inv)\n",
    "print(\"eigenvalue of a :\", W)\n",
    "print(\"eigenvacter of a :\", V)\n",
    "print(\"=\"*20)\n",
    "print(\"b :\", b)\n",
    "print(\"Trace of b :\", b_tr)\n",
    "print(\"Determinant of b :\", b_det)\n",
    "# print(\"Inverse of b\", b_inv)\n",
    "print(\"eigenvalue of b :\", W_b)\n",
    "print(\"eigenvacter of b :\", V_b)\n",
    "\n"
   ]
  },
  {
   "cell_type": "markdown",
   "metadata": {},
   "source": [
    "# 4. 주어진 행렬 a = [1,0,0,0;,0,2,0,0';0,0,3,0;0,0,0,5] 의 트레이스, 행렬식, 역행렬, 고유치 및 그에 해당하는 고유벡터들을 구하시오."
   ]
  },
  {
   "cell_type": "code",
   "execution_count": 21,
   "metadata": {},
   "outputs": [
    {
     "name": "stdout",
     "output_type": "stream",
     "text": [
      "Trace of a :  11\n",
      "Determinat of a \n",
      ":  29.99999999999999\n",
      "Inverse of a : \n",
      " [[1.         0.         0.         0.        ]\n",
      " [0.         0.5        0.         0.        ]\n",
      " [0.         0.         0.33333333 0.        ]\n",
      " [0.         0.         0.         0.2       ]]\n",
      "eigenvalue of a : \n",
      " [1. 2. 3. 5.]\n",
      "eigenvecter of a : \n",
      "  [[1. 0. 0. 0.]\n",
      " [0. 1. 0. 0.]\n",
      " [0. 0. 1. 0.]\n",
      " [0. 0. 0. 1.]]\n"
     ]
    }
   ],
   "source": [
    "a = np.array([[1,0,0,0],[0,2,0,0],[0,0,3,0],[0,0,0,5]])\n",
    "print(\"Trace of a : \", np.trace(a)) # a의 트레이스\n",
    "print(\"Determinat of a \\n: \", np.linalg.det(a)) # a의 행렬식\n",
    "print(\"Inverse of a : \\n\", np.linalg.inv(a)) # a의 역행렬\n",
    "W, V = np.linalg.eig(a)\n",
    "print(\"eigenvalue of a : \\n\", W) # a의 고유치\n",
    "print(\"eigenvecter of a : \\n \", V) # a의 고유값"
   ]
  },
  {
   "cell_type": "markdown",
   "metadata": {},
   "source": [
    "# 5. 주어진 행렬 a = [1,2,3;2,1,2;3,2,1]의 트레이스, 행렬식, 고유치 및 그에 해당하는 고유벡터들을 구하시오."
   ]
  },
  {
   "cell_type": "code",
   "execution_count": 24,
   "metadata": {},
   "outputs": [
    {
     "name": "stdout",
     "output_type": "stream",
     "text": [
      "Trace of a :  3\n",
      "Determinant of a  \n",
      ":  8.000000000000002\n",
      "eigenvalue of a : \n",
      " [ 5.70156212 -2.         -0.70156212]\n",
      "eigenvector of a : \n",
      " [[-6.05912800e-01 -7.07106781e-01  3.64512933e-01]\n",
      " [-5.15499134e-01  1.47635207e-16 -8.56890100e-01]\n",
      " [-6.05912800e-01  7.07106781e-01  3.64512933e-01]]\n"
     ]
    }
   ],
   "source": [
    "a = np.array([[1,2,3],[2,1,2],[3,2,1]]) \n",
    "print(\"Trace of a : \", np.trace(a)) # a의 트레이스\n",
    "print(\"Determinant of a  \\n: \", np.linalg.det(a)) # a의 행렬식\n",
    "W, V = np.linalg.eig(a)\n",
    "print(\"eigenvalue of a : \\n\", W) # a의 고유치\n",
    "print(\"eigenvector of a : \\n\", V) # a의 고유벡터"
   ]
  },
  {
   "cell_type": "code",
   "execution_count": null,
   "metadata": {},
   "outputs": [],
   "source": []
  }
 ],
 "metadata": {
  "kernelspec": {
   "display_name": "Python 3 (ipykernel)",
   "language": "python",
   "name": "python3"
  },
  "language_info": {
   "codemirror_mode": {
    "name": "ipython",
    "version": 3
   },
   "file_extension": ".py",
   "mimetype": "text/x-python",
   "name": "python",
   "nbconvert_exporter": "python",
   "pygments_lexer": "ipython3",
   "version": "3.9.13"
  }
 },
 "nbformat": 4,
 "nbformat_minor": 2
}
