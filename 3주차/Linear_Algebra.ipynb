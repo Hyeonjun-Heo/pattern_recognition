{
 "cells": [
  {
   "cell_type": "code",
   "execution_count": 1,
   "metadata": {},
   "outputs": [
    {
     "name": "stdout",
     "output_type": "stream",
     "text": [
      "norm(x) =  9.273618495495704\n"
     ]
    }
   ],
   "source": [
    "import numpy as np\n",
    "X = np.array([3,4,5,6])\n",
    "print(\"norm(x) = \", np.linalg.norm(X))"
   ]
  },
  {
   "cell_type": "code",
   "execution_count": 3,
   "metadata": {},
   "outputs": [
    {
     "name": "stdout",
     "output_type": "stream",
     "text": [
      "[0.32349832 0.43133109 0.53916387 0.64699664]\n",
      "0.9999999999999999\n"
     ]
    }
   ],
   "source": [
    "v = np.array([3,4,5,6])\n",
    "u = v / np.linalg.norm(v)\n",
    "print(u)\n",
    "print(np.linalg.norm(u))"
   ]
  },
  {
   "cell_type": "code",
   "execution_count": 5,
   "metadata": {},
   "outputs": [
    {
     "name": "stdout",
     "output_type": "stream",
     "text": [
      "39\n"
     ]
    }
   ],
   "source": [
    "x = np.array([3,4])\n",
    "y = np.array([5,6])\n",
    "print(np.dot(x,y))"
   ]
  },
  {
   "cell_type": "code",
   "execution_count": 8,
   "metadata": {},
   "outputs": [
    {
     "name": "stdout",
     "output_type": "stream",
     "text": [
      "[3.2 2.4]\n"
     ]
    }
   ],
   "source": [
    "y = np.array([2, 4])\n",
    "x = np.array([4, 3])\n",
    "u_x = x / np.linalg.norm(x)\n",
    "y_x = np.dot(y,u_x) * u_x\n",
    "print(y_x)"
   ]
  }
 ],
 "metadata": {
  "kernelspec": {
   "display_name": "tf-gpu",
   "language": "python",
   "name": "python3"
  },
  "language_info": {
   "codemirror_mode": {
    "name": "ipython",
    "version": 3
   },
   "file_extension": ".py",
   "mimetype": "text/x-python",
   "name": "python",
   "nbconvert_exporter": "python",
   "pygments_lexer": "ipython3",
   "version": "3.7.13"
  }
 },
 "nbformat": 4,
 "nbformat_minor": 2
}
